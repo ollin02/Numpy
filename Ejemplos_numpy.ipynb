{
  "nbformat": 4,
  "nbformat_minor": 0,
  "metadata": {
    "colab": {
      "provenance": [],
      "include_colab_link": true
    },
    "kernelspec": {
      "name": "python3",
      "display_name": "Python 3"
    },
    "language_info": {
      "name": "python"
    }
  },
  "cells": [
    {
      "cell_type": "markdown",
      "metadata": {
        "id": "view-in-github",
        "colab_type": "text"
      },
      "source": [
        "<a href=\"https://colab.research.google.com/github/ollin02/Numpy/blob/main/Ejemplos_numpy.ipynb\" target=\"_parent\"><img src=\"https://colab.research.google.com/assets/colab-badge.svg\" alt=\"Open In Colab\"/></a>"
      ]
    },
    {
      "cell_type": "markdown",
      "source": [
        "# **Numpy: Análisis numérico eficiente con Python**"
      ],
      "metadata": {
        "id": "gIKzRrVXl_U4"
      }
    },
    {
      "cell_type": "markdown",
      "source": [
        "NumPy es una biblioteca de Python que ofrece diversas herramientas y funcionalidades esenciales para la computación científica, incluyendo objetos de matriz multidimensional conocidos como *arrays*, rutinas para operaciones rápidas en matrizes, además de operaciones matemáticas, manipulación de formas, estadística entre otros. Es ampliamente utilizada en áreas como análisis de datos, procesamiento de señales y aprendizaje de máquina.\n",
        "\n",
        "Para acceder a la documentación de esta biblioteca, puedes hacer clic en el siguiente enlace: https://numpy.org/devdocs/index.html"
      ],
      "metadata": {
        "id": "ELbiOcHFmRA7"
      }
    },
    {
      "cell_type": "code",
      "source": [
        "import numpy as np"
      ],
      "metadata": {
        "id": "aS1ry2oIWkI8"
      },
      "execution_count": null,
      "outputs": []
    },
    {
      "cell_type": "markdown",
      "source": [
        "ejemplo de cómo convertir una lista en un array Numpy:"
      ],
      "metadata": {
        "id": "ikvnTsZfJbCT"
      }
    },
    {
      "cell_type": "code",
      "source": [
        "import numpy as np\n",
        "\n",
        "# crea una lista\n",
        "lista = [1, 2, 3, 4, 5]\n",
        "\n",
        "# convierte la lista en un array Numpy\n",
        "array = np.array(lista)\n",
        "\n",
        "print(\"Lista: \", lista)\n",
        "print(\"Array: \", array)"
      ],
      "metadata": {
        "colab": {
          "base_uri": "https://localhost:8080/"
        },
        "id": "yQVGfL80JW-2",
        "outputId": "266d84ec-0730-4060-a183-d98a85a2d7b4"
      },
      "execution_count": null,
      "outputs": [
        {
          "output_type": "stream",
          "name": "stdout",
          "text": [
            "Lista:  [1, 2, 3, 4, 5]\n",
            "Array:  [1 2 3 4 5]\n"
          ]
        }
      ]
    },
    {
      "cell_type": "markdown",
      "source": [
        "Existen varias ventajas en el uso de arrays Numpy en lugar de listas regulares de Python y aquí tienes algunas de ellas:\n",
        "\n",
        "1. Eficiencia de procesamiento: Las operaciones matemáticas en los arrays Numpy son mucho más rápidas que en las listas regulares, ya que Numpy está optimizado para trabajar con conjuntos de datos homogéneos y libera memoria de la computadora de manera rápida.\n",
        "\n",
        "2. Facilidad de uso: Las operaciones matemáticas en los arrays Numpy se expresan de manera mucho más clara y concisa que en las listas regulares, lo que hace que el código sea más fácil de leer y mantener.\n",
        "\n",
        "3. Integración con otras bibliotecas: Numpy es una de las bibliotecas más utilizadas en ciencia de datos y aprendizaje automático. Muchas otras bibliotecas, como Pandas y Matplotlib, están diseñadas para trabajar directamente con arrays Numpy."
      ],
      "metadata": {
        "id": "qlP6k91kJfJF"
      }
    },
    {
      "cell_type": "markdown",
      "source": [
        "##Comparación de rendimiento: listas vs arrays\n",
        "\n",
        "Centrándonos en la eficiencia, podemos comparar el tiempo necesario para realizar un cálculo utilizando listas y arrays."
      ],
      "metadata": {
        "id": "Anz_MRViJ8PH"
      }
    },
    {
      "cell_type": "code",
      "source": [
        "import numpy as np\n",
        "import time\n",
        "\n",
        "# crea una lista con 1000000 elementos\n",
        "lista = list(range(1000000))\n",
        "\n",
        "# convierte la lista en un array Numpy\n",
        "array = np.array(lista)\n",
        "\n",
        "# comienza a medir el tiempo para la operación con la lista\n",
        "start_time = time.time()\n",
        "\n",
        "# realiza la operación de elevar al cuadrado cada elemento de la lista\n",
        "lista_cuadrado = [i**2 for i in lista]\n",
        "\n",
        "# detiene el cronómetro\n",
        "tiempo_lista = time.time() - start_time\n",
        "\n",
        "# comienza a medir el tiempo para la operación con el array\n",
        "start_time = time.time()\n",
        "\n",
        "# realiza la operación de elevar al cuadrado cada elemento del array\n",
        "array_cuadrado = array**2\n",
        "\n",
        "# detiene el cronómetro\n",
        "tiempo_array = time.time() - start_time\n",
        "\n",
        "print(\"Tiempo de la operación con la lista: \", tiempo_lista)\n",
        "print(\"Tiempo de la operación con el array: \", tiempo_array)"
      ],
      "metadata": {
        "colab": {
          "base_uri": "https://localhost:8080/"
        },
        "id": "k_YcGpFBKFDS",
        "outputId": "5845e803-10f1-475a-c5b3-e8e482f92264"
      },
      "execution_count": null,
      "outputs": [
        {
          "output_type": "stream",
          "name": "stdout",
          "text": [
            "Tiempo de la operación con la lista:  0.14288330078125\n",
            "Tiempo de la operación con el array:  0.006143808364868164\n"
          ]
        }
      ]
    },
    {
      "cell_type": "markdown",
      "source": [
        "Como se puede ver, la operación realizada con el array Numpy fue mucho más rápida que con la lista regular, lo que demuestra la eficiencia en el procesamiento con el array."
      ],
      "metadata": {
        "id": "0lAiSphFKfXL"
      }
    },
    {
      "cell_type": "markdown",
      "source": [
        "##Obteniendo las dimensiones\n",
        "\n",
        "Un colega te pidió que cargues una base de datos y verifiques el número de filas y columnas del archivo cargado. Tenía dudas sobre si se habían cargado todas las filas.\n",
        "\n",
        "¿Cómo determinar las dimensiones correctas de una matriz?\n",
        "\n",
        "Para responder a esta pregunta, necesitarás acceder al siguiente dataset. Puedes usar la opción skiprows=1 para omitir la primera línea del archivo."
      ],
      "metadata": {
        "id": "LmgO8M8VRJZH"
      }
    },
    {
      "cell_type": "markdown",
      "source": [
        "#Colunas, Renglones"
      ],
      "metadata": {
        "id": "VuQbi5RERgLl"
      }
    },
    {
      "cell_type": "code",
      "source": [
        "url = 'https://raw.githubusercontent.com/allanspadini/numpy/dados/bytebank.csv'\n",
        "import numpy as np\n",
        "dato = np.loadtxt(url, delimiter=',', skiprows=1, dtype=float)\n",
        "np.shape(dato)"
      ],
      "metadata": {
        "colab": {
          "base_uri": "https://localhost:8080/"
        },
        "id": "Nrz9VAiSRQo4",
        "outputId": "96bb3414-37c8-4fc2-c0c4-bce39af25e9b"
      },
      "execution_count": null,
      "outputs": [
        {
          "output_type": "execute_result",
          "data": {
            "text/plain": [
              "(12, 2)"
            ]
          },
          "metadata": {},
          "execution_count": 1
        }
      ]
    },
    {
      "cell_type": "markdown",
      "source": [
        "#Dimenciones"
      ],
      "metadata": {
        "id": "-Hi_1dyyRk9R"
      }
    },
    {
      "cell_type": "code",
      "source": [
        "url = 'https://raw.githubusercontent.com/allanspadini/numpy/dados/bytebank.csv'\n",
        "import numpy as np\n",
        "dato = np.loadtxt(url, delimiter=',', skiprows=1, dtype=float)\n",
        "dato.ndim"
      ],
      "metadata": {
        "colab": {
          "base_uri": "https://localhost:8080/"
        },
        "id": "3ZM0Ypp7Ra3t",
        "outputId": "ca17e43d-5b29-4409-c5cd-e183a061e648"
      },
      "execution_count": null,
      "outputs": [
        {
          "output_type": "execute_result",
          "data": {
            "text/plain": [
              "2"
            ]
          },
          "metadata": {},
          "execution_count": 3
        }
      ]
    },
    {
      "cell_type": "code",
      "source": [
        "url = 'https://raw.githubusercontent.com/allanspadini/numpy/dados/bytebank.csv'\n",
        "import numpy as np\n",
        "dato = np.loadtxt(url, delimiter=',', skiprows=1, dtype=float)\n",
        "dato.shape"
      ],
      "metadata": {
        "colab": {
          "base_uri": "https://localhost:8080/"
        },
        "id": "KRAEGcOmRVp8",
        "outputId": "8436b75e-5c82-456d-81f3-468384a83d99"
      },
      "execution_count": null,
      "outputs": [
        {
          "output_type": "execute_result",
          "data": {
            "text/plain": [
              "(12, 2)"
            ]
          },
          "metadata": {},
          "execution_count": 2
        }
      ]
    },
    {
      "cell_type": "markdown",
      "source": [
        "##Selección de un intervalo\n",
        "\n",
        "Charlie está trabajando con una base de datos de clientes de una tienda."
      ],
      "metadata": {
        "id": "UMiyQ3mWbbRv"
      }
    },
    {
      "cell_type": "code",
      "source": [
        "import numpy as np\n",
        "\n",
        "clientes = np.array([[1, 'Juan', 30, 'Calle A', 100, 'electrónicos'],\n",
        "                     [2, 'Maria', 25, 'Calle B', 200, 'moda'],\n",
        "                     [3, 'Pedro', 35, 'Calle C', 50, 'deportes']])\n",
        "\n",
        "print(clientes)"
      ],
      "metadata": {
        "colab": {
          "base_uri": "https://localhost:8080/"
        },
        "id": "fes41szpbQNn",
        "outputId": "955c5cfd-6d2e-419c-8f88-514344cefcbc"
      },
      "execution_count": 13,
      "outputs": [
        {
          "output_type": "stream",
          "name": "stdout",
          "text": [
            "[['1' 'Juan' '30' 'Calle A' '100' 'electrónicos']\n",
            " ['2' 'Maria' '25' 'Calle B' '200' 'moda']\n",
            " ['3' 'Pedro' '35' 'Calle C' '50' 'deportes']]\n"
          ]
        }
      ]
    },
    {
      "cell_type": "markdown",
      "source": [
        "Las cuatro primeras columnas representan datos personales de los clientes y no puede usarlas en el análisis. Por lo tanto, pretende construir una nueva matriz llamada intencion_compras para almacenar solo las dos últimas columnas de los datos. ¿Qué comando debe utilizar para obtener el resultado deseado?"
      ],
      "metadata": {
        "id": "UvqcieYTbkSl"
      }
    },
    {
      "cell_type": "markdown",
      "source": [
        "#Respuesta"
      ],
      "metadata": {
        "id": "FNE2eWYId-pN"
      }
    },
    {
      "cell_type": "code",
      "source": [
        "intencion_compras = clientes[:, 4:]\n",
        "print(intencion_compras)"
      ],
      "metadata": {
        "colab": {
          "base_uri": "https://localhost:8080/"
        },
        "id": "Yfi3yEtcdhmv",
        "outputId": "4860263c-db2b-4f37-83f6-00575ca8327b"
      },
      "execution_count": 15,
      "outputs": [
        {
          "output_type": "stream",
          "name": "stdout",
          "text": [
            "[['100' 'electrónicos']\n",
            " ['200' 'moda']\n",
            " ['50' 'deportes']]\n"
          ]
        }
      ]
    },
    {
      "cell_type": "code",
      "source": [
        "intencion_compras1 = clientes[:, 4:6]\n",
        "print(intencion_compras1)"
      ],
      "metadata": {
        "colab": {
          "base_uri": "https://localhost:8080/"
        },
        "id": "NSHfBb9adsbw",
        "outputId": "b0b4a31d-fc7c-44e8-bdee-d67c751dad8e"
      },
      "execution_count": 18,
      "outputs": [
        {
          "output_type": "stream",
          "name": "stdout",
          "text": [
            "[['100' 'electrónicos']\n",
            " ['200' 'moda']\n",
            " ['50' 'deportes']]\n"
          ]
        }
      ]
    },
    {
      "cell_type": "markdown",
      "source": [
        "##Formas de acceder a los datos del vector"
      ],
      "metadata": {
        "id": "Q5fvp2QpeE3n"
      }
    },
    {
      "cell_type": "code",
      "source": [
        "intencion1 = clientes[:, 4:5]\n",
        "print(intencion1)"
      ],
      "metadata": {
        "colab": {
          "base_uri": "https://localhost:8080/"
        },
        "id": "Egj8nHMueN-7",
        "outputId": "c3c7f6cb-4f81-4758-c2fb-e8be9c2e2326"
      },
      "execution_count": 22,
      "outputs": [
        {
          "output_type": "stream",
          "name": "stdout",
          "text": [
            "[['100']\n",
            " ['200']\n",
            " ['50']]\n"
          ]
        }
      ]
    }
  ]
}