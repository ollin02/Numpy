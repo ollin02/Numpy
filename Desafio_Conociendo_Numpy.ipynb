{
  "nbformat": 4,
  "nbformat_minor": 0,
  "metadata": {
    "colab": {
      "provenance": [],
      "authorship_tag": "ABX9TyNt8B2X8F4DOeR3WWl+50OW",
      "include_colab_link": true
    },
    "kernelspec": {
      "name": "python3",
      "display_name": "Python 3"
    },
    "language_info": {
      "name": "python"
    }
  },
  "cells": [
    {
      "cell_type": "markdown",
      "metadata": {
        "id": "view-in-github",
        "colab_type": "text"
      },
      "source": [
        "<a href=\"https://colab.research.google.com/github/ollin02/Numpy/blob/main/Desafio_Conociendo_Numpy.ipynb\" target=\"_parent\"><img src=\"https://colab.research.google.com/assets/colab-badge.svg\" alt=\"Open In Colab\"/></a>"
      ]
    },
    {
      "cell_type": "markdown",
      "source": [
        "##Haga lo que hicimos\n",
        "\n",
        "Ha llegado el momento de poner a prueba los conocimientos adquiridos durante la lección. Para ello, vamos a utilizar otro conjunto de datos en un desafío que se desarrollará a lo largo del curso. Este conjunto de datos es una versión modificada del archivo disponible en el sitio de Kaggle. Por lo tanto, utilizaremos el archivo raw disponible en Github.\n",
        "\n",
        "En esta etapa, debes cargar los datos. Para hacerlo, importa NumPy y utiliza la función loadtxt. Utiliza el enlace de la URL y el parámetro usecols para omitir la primera columna. Puedes usar np.arange para crear la secuencia de números que representan las columnas. Por último, también es necesario incluir el parámetro skiprows=1 para que la primera línea de texto se omita al leer el archivo."
      ],
      "metadata": {
        "id": "hv5CvcflStLA"
      }
    },
    {
      "cell_type": "code",
      "execution_count": 9,
      "metadata": {
        "colab": {
          "base_uri": "https://localhost:8080/"
        },
        "id": "V1X4Yok8ShBm",
        "outputId": "b2437e12-8912-40ac-cc79-36b8d649a3d7"
      },
      "outputs": [
        {
          "output_type": "stream",
          "name": "stdout",
          "text": [
            "[[  2.96  86.76 172.    85.     2.  ]\n",
            " [  3.91  88.05 166.    78.     3.  ]\n",
            " [  4.42  95.17 156.    81.     2.  ]\n",
            " ...\n",
            " [ 15.59 256.5  168.    82.    20.  ]\n",
            " [ 15.92 260.14 142.    72.    11.  ]\n",
            " [ 16.45 261.51 152.    74.     2.  ]]\n"
          ]
        }
      ],
      "source": [
        "import numpy as np\n",
        "\n",
        "url = 'https://gist.githubusercontent.com/ahcamachod/9be09de793dc3bf1e6c3d98eb4e5b1ef/raw/21b85572693200040e11284ef6dcfc3457ec8e11/citrus.csv'\n",
        "\n",
        "datos = np.loadtxt(url, delimiter=',', usecols=np.arange(1, 6), skiprows=1)\n",
        "print(datos)\n"
      ]
    },
    {
      "cell_type": "markdown",
      "source": [
        "Se utiliza np.arange() dentro de np.loadtxt() para crear una secuencia de columnas."
      ],
      "metadata": {
        "id": "qacmx4cRTok-"
      }
    },
    {
      "cell_type": "markdown",
      "source": [
        "##**Desafio-Análisis-númerico-eficiente-con-Python**\n",
        "\n",
        "Ha llegado el momento de poner a prueba los conocimientos adquiridos durante la lección. Continuando con el proyecto de las naranjas/toronjas, ahora debes seleccionar parte de los datos. Las columnas que evaluaremos son el diámetro y el peso. Crea arrays específicos para almacenar el diámetro y el peso de la naranja y la toronja. El diámetro está en la columna cero y el peso en la columna uno. Los datos de las naranjas van hasta la fila 4999 y los datos de las toronjas comienzan en la fila 5000 del archivo.\n",
        "\n",
        "Después de seleccionar los datos, importa la biblioteca matplotlib y crea un gráfico para el peso en función del diámetro tanto para las naranjas como para las toronjas."
      ],
      "metadata": {
        "id": "m0rsMIEb_fux"
      }
    },
    {
      "cell_type": "code",
      "source": [
        "#Creo un array para el diametro de naranjas y toronjas\n",
        "diametro_naranjas = datos[:5000, 0]\n",
        "diametro_toronjas = datos[5000:, 0]"
      ],
      "metadata": {
        "id": "vUJJzikB_fUO"
      },
      "execution_count": 10,
      "outputs": []
    },
    {
      "cell_type": "code",
      "source": [
        "#Creo un array para el peso de las naranjas y de las toronjas\n",
        "peso_naranjas = datos[:5000, 1]\n",
        "peso_toronjas = datos[5000:, 1]"
      ],
      "metadata": {
        "id": "MHJZwImpCH25"
      },
      "execution_count": 11,
      "outputs": []
    },
    {
      "cell_type": "code",
      "source": [
        "import matplotlib.pyplot as plt\n",
        "\n",
        "plt.fill_between(diametro_naranjas, peso_naranjas, color='orange', label='Naranjas', alpha=0.6)\n",
        "plt.fill_between(diametro_toronjas, peso_toronjas, color='red', label='Toronjas', alpha=0.6)\n",
        "plt.xlabel('Diametro')\n",
        "plt.ylabel('Peso')\n",
        "plt.legend()\n",
        "plt.show()"
      ],
      "metadata": {
        "colab": {
          "base_uri": "https://localhost:8080/",
          "height": 449
        },
        "id": "lQeTiWORCtzs",
        "outputId": "54ffb2c5-3035-4e49-f8e0-c245146c018b"
      },
      "execution_count": 13,
      "outputs": [
        {
          "output_type": "display_data",
          "data": {
            "text/plain": [
              "<Figure size 640x480 with 1 Axes>"
            ],
            "image/png": "[encoded data removed]"
          },
          "metadata": {}
        }
      ]
    },
    {
      "cell_type": "markdown",
      "source": [
        "# Diferencia en un intervalo\n",
        "\n",
        "Patty es una científica que está analizando una base de datos. Está utilizando la biblioteca NumPy para evaluar las columnas de una matriz de datos de un sensor de calor. Cada columna representa la misma información recopilada por un mismo sensor en momentos diferentes. Para validar si el sensor sigue calibrado, necesita que la diferencia entre los valores en las posiciones de una matriz llamada \"base\" y una columna de la matriz \"medidas\" sea menor que 0.01.\n",
        "\n",
        "¿Cómo puede usar NumPy para realizar esta evaluación en la columna cero de la matriz?"
      ],
      "metadata": {
        "id": "Uqq1nxJH30HJ"
      }
    },
    {
      "cell_type": "markdown",
      "source": [
        "np.allclose(base, medidas[:, 0], 0.01)"
      ],
      "metadata": {
        "id": "A7A5tXAr4ew8"
      }
    },
    {
      "cell_type": "markdown",
      "source": [
        "##Determinando el número de NaNs\n",
        "\n",
        "Estás trabajando con datos de ventas de tu puesto de jugo de limón. Cargaste los datos con load.txt() y, al visualizar la matriz, notaste que había algunos NaNs dentro de ella. Dado que se trata de un archivo grande, decidiste usar código para verificar el número total de estos valores. ¿Cuál es el código adecuado para obtener el resultado deseado en la matriz jugo_de_limon?"
      ],
      "metadata": {
        "id": "2jiHmHTj5I6e"
      }
    },
    {
      "cell_type": "markdown",
      "source": [
        "np.sum(np.isnan(jugo_de_limon))"
      ],
      "metadata": {
        "id": "frcHnhhN5YJn"
      }
    }
  ]
}