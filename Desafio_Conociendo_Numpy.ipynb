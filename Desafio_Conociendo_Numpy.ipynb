{
  "nbformat": 4,
  "nbformat_minor": 0,
  "metadata": {
    "colab": {
      "provenance": [],
      "authorship_tag": "ABX9TyMJ1MsffkgS3b0HNzZwwlFo",
      "include_colab_link": true
    },
    "kernelspec": {
      "name": "python3",
      "display_name": "Python 3"
    },
    "language_info": {
      "name": "python"
    }
  },
  "cells": [
    {
      "cell_type": "markdown",
      "metadata": {
        "id": "view-in-github",
        "colab_type": "text"
      },
      "source": [
        "<a href=\"https://colab.research.google.com/github/ollin02/Numpy/blob/main/Desafio_Conociendo_Numpy.ipynb\" target=\"_parent\"><img src=\"https://colab.research.google.com/assets/colab-badge.svg\" alt=\"Open In Colab\"/></a>"
      ]
    },
    {
      "cell_type": "markdown",
      "source": [
        "##Haga lo que hicimos\n",
        "\n",
        "Ha llegado el momento de poner a prueba los conocimientos adquiridos durante la lección. Para ello, vamos a utilizar otro conjunto de datos en un desafío que se desarrollará a lo largo del curso. Este conjunto de datos es una versión modificada del archivo disponible en el sitio de Kaggle. Por lo tanto, utilizaremos el archivo raw disponible en Github.\n",
        "\n",
        "En esta etapa, debes cargar los datos. Para hacerlo, importa NumPy y utiliza la función loadtxt. Utiliza el enlace de la URL y el parámetro usecols para omitir la primera columna. Puedes usar np.arange para crear la secuencia de números que representan las columnas. Por último, también es necesario incluir el parámetro skiprows=1 para que la primera línea de texto se omita al leer el archivo."
      ],
      "metadata": {
        "id": "hv5CvcflStLA"
      }
    },
    {
      "cell_type": "code",
      "execution_count": 2,
      "metadata": {
        "colab": {
          "base_uri": "https://localhost:8080/"
        },
        "id": "V1X4Yok8ShBm",
        "outputId": "cb13b164-e9ce-445d-a2ae-383da13f6752"
      },
      "outputs": [
        {
          "output_type": "stream",
          "name": "stdout",
          "text": [
            "[[  2.96  86.76 172.    85.     2.  ]\n",
            " [  3.91  88.05 166.    78.     3.  ]\n",
            " [  4.42  95.17 156.    81.     2.  ]\n",
            " ...\n",
            " [ 15.59 256.5  168.    82.    20.  ]\n",
            " [ 15.92 260.14 142.    72.    11.  ]\n",
            " [ 16.45 261.51 152.    74.     2.  ]]\n"
          ]
        }
      ],
      "source": [
        "import numpy as np\n",
        "\n",
        "url = 'https://gist.githubusercontent.com/ahcamachod/9be09de793dc3bf1e6c3d98eb4e5b1ef/raw/21b85572693200040e11284ef6dcfc3457ec8e11/citrus.csv'\n",
        "\n",
        "datos = np.loadtxt(url, delimiter=',', usecols=np.arange(1, 6), skiprows=1)\n",
        "print(datos)\n"
      ]
    },
    {
      "cell_type": "markdown",
      "source": [
        "Se utiliza np.arange() dentro de np.loadtxt() para crear una secuencia de columnas."
      ],
      "metadata": {
        "id": "qacmx4cRTok-"
      }
    },
    {
      "cell_type": "markdown",
      "source": [
        "# Diferencia en un intervalo\n",
        "\n",
        "Patty es una científica que está analizando una base de datos. Está utilizando la biblioteca NumPy para evaluar las columnas de una matriz de datos de un sensor de calor. Cada columna representa la misma información recopilada por un mismo sensor en momentos diferentes. Para validar si el sensor sigue calibrado, necesita que la diferencia entre los valores en las posiciones de una matriz llamada \"base\" y una columna de la matriz \"medidas\" sea menor que 0.01.\n",
        "\n",
        "¿Cómo puede usar NumPy para realizar esta evaluación en la columna cero de la matriz?"
      ],
      "metadata": {
        "id": "Uqq1nxJH30HJ"
      }
    },
    {
      "cell_type": "markdown",
      "source": [
        "np.allclose(base, medidas[:, 0], 0.01)"
      ],
      "metadata": {
        "id": "A7A5tXAr4ew8"
      }
    },
    {
      "cell_type": "markdown",
      "source": [
        "##Determinando el número de NaNs\n",
        "\n",
        "Estás trabajando con datos de ventas de tu puesto de jugo de limón. Cargaste los datos con load.txt() y, al visualizar la matriz, notaste que había algunos NaNs dentro de ella. Dado que se trata de un archivo grande, decidiste usar código para verificar el número total de estos valores. ¿Cuál es el código adecuado para obtener el resultado deseado en la matriz jugo_de_limon?"
      ],
      "metadata": {
        "id": "2jiHmHTj5I6e"
      }
    }
  ]
}