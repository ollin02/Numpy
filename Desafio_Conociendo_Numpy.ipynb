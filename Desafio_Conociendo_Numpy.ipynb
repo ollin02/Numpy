{
  "nbformat": 4,
  "nbformat_minor": 0,
  "metadata": {
    "colab": {
      "provenance": [],
      "authorship_tag": "ABX9TyN3cBKxtJkwmqJ8eYHCrtw5",
      "include_colab_link": true
    },
    "kernelspec": {
      "name": "python3",
      "display_name": "Python 3"
    },
    "language_info": {
      "name": "python"
    }
  },
  "cells": [
    {
      "cell_type": "markdown",
      "metadata": {
        "id": "view-in-github",
        "colab_type": "text"
      },
      "source": [
        "<a href=\"https://colab.research.google.com/github/ollin02/Numpy/blob/main/Desafio_Conociendo_Numpy.ipynb\" target=\"_parent\"><img src=\"https://colab.research.google.com/assets/colab-badge.svg\" alt=\"Open In Colab\"/></a>"
      ]
    },
    {
      "cell_type": "markdown",
      "source": [
        "##Haga lo que hicimos\n",
        "\n",
        "Ha llegado el momento de poner a prueba los conocimientos adquiridos durante la lección. Para ello, vamos a utilizar otro conjunto de datos en un desafío que se desarrollará a lo largo del curso. Este conjunto de datos es una versión modificada del archivo disponible en el sitio de Kaggle. Por lo tanto, utilizaremos el archivo raw disponible en Github.\n",
        "\n",
        "En esta etapa, debes cargar los datos. Para hacerlo, importa NumPy y utiliza la función loadtxt. Utiliza el enlace de la URL y el parámetro usecols para omitir la primera columna. Puedes usar np.arange para crear la secuencia de números que representan las columnas. Por último, también es necesario incluir el parámetro skiprows=1 para que la primera línea de texto se omita al leer el archivo."
      ],
      "metadata": {
        "id": "hv5CvcflStLA"
      }
    },
    {
      "cell_type": "code",
      "execution_count": 3,
      "metadata": {
        "colab": {
          "base_uri": "https://localhost:8080/"
        },
        "id": "V1X4Yok8ShBm",
        "outputId": "817a3678-44df-4c78-b887-802b979cd8a5"
      },
      "outputs": [
        {
          "output_type": "stream",
          "name": "stdout",
          "text": [
            "[[  2.96  86.76 172.    85.     2.  ]\n",
            " [  3.91  88.05 166.    78.     3.  ]\n",
            " [  4.42  95.17 156.    81.     2.  ]\n",
            " ...\n",
            " [ 15.59 256.5  168.    82.    20.  ]\n",
            " [ 15.92 260.14 142.    72.    11.  ]\n",
            " [ 16.45 261.51 152.    74.     2.  ]]\n"
          ]
        }
      ],
      "source": [
        "import numpy as np\n",
        "\n",
        "url = 'https://gist.githubusercontent.com/ahcamachod/9be09de793dc3bf1e6c3d98eb4e5b1ef/raw/21b85572693200040e11284ef6dcfc3457ec8e11/citrus.csv'\n",
        "\n",
        "datos = np.loadtxt(url, delimiter=',', usecols=np.arange(1, 6), skiprows=1)\n",
        "print(datos)\n"
      ]
    },
    {
      "cell_type": "markdown",
      "source": [
        "Se utiliza np.arange() dentro de np.loadtxt() para crear una secuencia de columnas."
      ],
      "metadata": {
        "id": "qacmx4cRTok-"
      }
    }
  ]
}