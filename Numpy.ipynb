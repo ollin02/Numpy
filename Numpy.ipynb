{
  "nbformat": 4,
  "nbformat_minor": 0,
  "metadata": {
    "colab": {
      "provenance": [],
      "include_colab_link": true
    },
    "kernelspec": {
      "name": "python3",
      "display_name": "Python 3"
    },
    "language_info": {
      "name": "python"
    }
  },
  "cells": [
    {
      "cell_type": "markdown",
      "metadata": {
        "id": "view-in-github",
        "colab_type": "text"
      },
      "source": [
        "<a href=\"https://colab.research.google.com/github/ollin02/Numpy/blob/main/Numpy.ipynb\" target=\"_parent\"><img src=\"https://colab.research.google.com/assets/colab-badge.svg\" alt=\"Open In Colab\"/></a>"
      ]
    },
    {
      "cell_type": "markdown",
      "source": [
        "# **Numpy: Análisis numérico eficiente con Python**"
      ],
      "metadata": {
        "id": "gIKzRrVXl_U4"
      }
    },
    {
      "cell_type": "markdown",
      "source": [
        "NumPy es una biblioteca de Python que ofrece diversas herramientas y funcionalidades esenciales para la computación científica, incluyendo objetos de matriz multidimensional conocidos como *arrays*, rutinas para operaciones rápidas en matrizes, además de operaciones matemáticas, manipulación de formas, estadística entre otros. Es ampliamente utilizada en áreas como análisis de datos, procesamiento de señales y aprendizaje de máquina.\n",
        "\n",
        "Para acceder a la documentación de esta biblioteca, puedes hacer clic en el siguiente enlace: https://numpy.org/devdocs/index.html"
      ],
      "metadata": {
        "id": "ELbiOcHFmRA7"
      }
    },
    {
      "cell_type": "code",
      "source": [
        "import numpy as np\n",
        "\n",
        "ano_inicial = 2002\n",
        "ano_final = 2102\n",
        "np.arange(ano_inicial, ano_final, 4)"
      ],
      "metadata": {
        "id": "aS1ry2oIWkI8",
        "colab": {
          "base_uri": "https://localhost:8080/"
        },
        "outputId": "88c2cc90-1400-4dc5-ff5d-965febc4eb24"
      },
      "execution_count": 1,
      "outputs": [
        {
          "output_type": "execute_result",
          "data": {
            "text/plain": [
              "array([2002, 2006, 2010, 2014, 2018, 2022, 2026, 2030, 2034, 2038, 2042,\n",
              "       2046, 2050, 2054, 2058, 2062, 2066, 2070, 2074, 2078, 2082, 2086,\n",
              "       2090, 2094, 2098])"
            ]
          },
          "metadata": {},
          "execution_count": 1
        }
      ]
    },
    {
      "cell_type": "code",
      "source": [
        "ano_inicial = 2002\n",
        "ano_final = 2102\n",
        "np.arange(ano_inicial, ano_final + 1, 4)"
      ],
      "metadata": {
        "colab": {
          "base_uri": "https://localhost:8080/"
        },
        "id": "UuXmVY015eIn",
        "outputId": "85c12b63-2fbf-4006-8c02-fea62b252518"
      },
      "execution_count": 4,
      "outputs": [
        {
          "output_type": "execute_result",
          "data": {
            "text/plain": [
              "array([2002, 2006, 2010, 2014, 2018, 2022, 2026, 2030, 2034, 2038, 2042,\n",
              "       2046, 2050, 2054, 2058, 2062, 2066, 2070, 2074, 2078, 2082, 2086,\n",
              "       2090, 2094, 2098, 2102])"
            ]
          },
          "metadata": {},
          "execution_count": 4
        }
      ]
    },
    {
      "cell_type": "code",
      "source": [
        "ano_inicial = 2002\n",
        "ano_final = 2102\n",
        "np.arange(ano_inicial, ano_final + 1, 4)"
      ],
      "metadata": {
        "colab": {
          "base_uri": "https://localhost:8080/"
        },
        "id": "MUtHEtGB5OPk",
        "outputId": "590e6387-887a-4b9a-cda2-36a7c879aede"
      },
      "execution_count": 2,
      "outputs": [
        {
          "output_type": "execute_result",
          "data": {
            "text/plain": [
              "array([2002, 2006, 2010, 2014, 2018, 2022, 2026, 2030, 2034, 2038, 2042,\n",
              "       2046, 2050, 2054, 2058, 2062, 2066, 2070, 2074, 2078, 2082, 2086,\n",
              "       2090, 2094, 2098, 2102])"
            ]
          },
          "metadata": {},
          "execution_count": 2
        }
      ]
    },
    {
      "cell_type": "code",
      "source": [
        "ano_inicial = 2000\n",
        "ano_final = 2102\n",
        "np.arange(ano_inicial, ano_final, 4)"
      ],
      "metadata": {
        "colab": {
          "base_uri": "https://localhost:8080/"
        },
        "id": "94pkxAfG5U-_",
        "outputId": "5b893c31-c717-4a59-f4c2-68a5144c6a3b"
      },
      "execution_count": 3,
      "outputs": [
        {
          "output_type": "execute_result",
          "data": {
            "text/plain": [
              "array([2000, 2004, 2008, 2012, 2016, 2020, 2024, 2028, 2032, 2036, 2040,\n",
              "       2044, 2048, 2052, 2056, 2060, 2064, 2068, 2072, 2076, 2080, 2084,\n",
              "       2088, 2092, 2096, 2100])"
            ]
          },
          "metadata": {},
          "execution_count": 3
        }
      ]
    }
  ]
}